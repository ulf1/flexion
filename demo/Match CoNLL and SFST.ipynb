{
 "cells": [
  {
   "cell_type": "markdown",
   "metadata": {},
   "source": [
    "# Vorgehen\n",
    "0. Satzbeleg auswählen\n",
    "1. Worttokenization\n",
    "2. Modelle\n",
    "    - Spacy, Morph. Tagging, https://universaldependencies.org/u/feat/index.html\n",
    "    - SFTS Analysis je Wort, https://www.cis.uni-muenchen.de/~schmid/tools/SMOR/dspin/ch01s03.html#Tags\n",
    "3. Matche 2b with 2a, See conversion table https://universaldependencies.org/tagset-conversion/de-smor-uposf.html (Nur das letzte Morphem muss matchen)\n",
    "4. Replace word and SFTS Generative\n",
    "\n"
   ]
  },
  {
   "cell_type": "code",
   "execution_count": 1,
   "metadata": {
    "ExecuteTime": {
     "end_time": "2018-09-18T08:12:38.232692Z",
     "start_time": "2018-09-18T08:12:38.223700Z"
    }
   },
   "outputs": [],
   "source": [
    "import sys\n",
    "sys.path.append('..')"
   ]
  },
  {
   "cell_type": "code",
   "execution_count": 2,
   "metadata": {
    "ExecuteTime": {
     "end_time": "2018-09-18T08:12:38.249524Z",
     "start_time": "2018-09-18T08:12:38.237886Z"
    }
   },
   "outputs": [],
   "source": [
    "import sfst_transduce\n",
    "import pathlib\n",
    "import conllu\n",
    "import io"
   ]
  },
  {
   "cell_type": "markdown",
   "metadata": {},
   "source": [
    "## CoNLL-U File"
   ]
  },
  {
   "cell_type": "code",
   "execution_count": 3,
   "metadata": {},
   "outputs": [
    {
     "name": "stdout",
     "output_type": "stream",
     "text": [
      "18434\n",
      "CPU times: user 12.7 s, sys: 251 ms, total: 12.9 s\n",
      "Wall time: 13 s\n"
     ]
    }
   ],
   "source": [
    "%%time\n",
    "iowrapper = io.open(\"de_hdt-ud-dev.conllu\", \"r\", encoding=\"utf-8\")\n",
    "dat = [s for s in conllu.parse_incr(iowrapper)]\n",
    "print(len(dat))"
   ]
  },
  {
   "cell_type": "code",
   "execution_count": 22,
   "metadata": {},
   "outputs": [
    {
     "data": {
      "text/plain": [
       "'DV-Material vom Computer wandelt die studio-Box in Echtzeit in analoge Signale um , etwa zur Ausgabe auf dem Fernseher oder zur Aufnahme auf einem VHS-Recorder .'"
      ]
     },
     "execution_count": 22,
     "metadata": {},
     "output_type": "execute_result"
    }
   ],
   "source": [
    "senttext = dat[5002].metadata.get('text')\n",
    "senttext"
   ]
  },
  {
   "cell_type": "code",
   "execution_count": 23,
   "metadata": {},
   "outputs": [
    {
     "data": {
      "text/plain": [
       "{'id': 1,\n",
       " 'form': 'DV-Material',\n",
       " 'lemma': 'Material',\n",
       " 'upos': 'NOUN',\n",
       " 'xpos': 'NN',\n",
       " 'feats': {'Case': 'Acc', 'Gender': 'Neut', 'Number': 'Sing', 'Person': '3'},\n",
       " 'head': 5,\n",
       " 'deprel': 'obj',\n",
       " 'deps': None,\n",
       " 'misc': None}"
      ]
     },
     "execution_count": 23,
     "metadata": {},
     "output_type": "execute_result"
    }
   ],
   "source": [
    "tokens = [t for t in dat[5002]]\n",
    "tokens[0]"
   ]
  },
  {
   "cell_type": "markdown",
   "metadata": {},
   "source": [
    "## FST"
   ]
  },
  {
   "cell_type": "code",
   "execution_count": 8,
   "metadata": {
    "ExecuteTime": {
     "end_time": "2018-09-18T08:12:38.249524Z",
     "start_time": "2018-09-18T08:12:38.237886Z"
    }
   },
   "outputs": [],
   "source": [
    "# path to compiled transducer\n",
    "FSTPATH = f\"{str(pathlib.Path.home())}/flexion_data/smor/SMOR/lib/smor.a\""
   ]
  },
  {
   "cell_type": "code",
   "execution_count": 9,
   "metadata": {
    "ExecuteTime": {
     "end_time": "2018-09-18T08:12:38.249524Z",
     "start_time": "2018-09-18T08:12:38.237886Z"
    }
   },
   "outputs": [],
   "source": [
    "# Create instance from compiled transducer\n",
    "fst = sfst_transduce.Transducer(FSTPATH)"
   ]
  },
  {
   "cell_type": "markdown",
   "metadata": {},
   "source": [
    "## Analyse each token"
   ]
  },
  {
   "cell_type": "code",
   "execution_count": 46,
   "metadata": {},
   "outputs": [],
   "source": [
    "morphemes = [[t, fst.analyse(t.get(\"form\"))] for t in tokens]"
   ]
  },
  {
   "cell_type": "code",
   "execution_count": 97,
   "metadata": {},
   "outputs": [
    {
     "data": {
      "text/plain": [
       "[{'id': 10,\n",
       "  'form': 'in',\n",
       "  'lemma': 'in',\n",
       "  'upos': 'ADP',\n",
       "  'xpos': 'APPR',\n",
       "  'feats': {'AdpType': 'Prep', 'Case': 'Acc'},\n",
       "  'head': 12,\n",
       "  'deprel': 'case',\n",
       "  'deps': None,\n",
       "  'misc': None},\n",
       " ['in<+PREP><Acc>', 'in<+PREP><Dat>']]"
      ]
     },
     "execution_count": 97,
     "metadata": {},
     "output_type": "execute_result"
    }
   ],
   "source": [
    "morphemes[10]"
   ]
  },
  {
   "cell_type": "markdown",
   "metadata": {},
   "source": [
    "see table \n",
    "https://universaldependencies.org/tagset-conversion/de-smor-uposf.html"
   ]
  },
  {
   "cell_type": "code",
   "execution_count": 132,
   "metadata": {},
   "outputs": [],
   "source": [
    "def token2sfst(t, last=True):\n",
    "    tags = []\n",
    "    # xpos = t.get('xpos')\n",
    "    upos = t.get('upos')\n",
    "    feats = t.get('feats')\n",
    "    \n",
    "    if upos == \"NOUN\":\n",
    "        tags += [f\"<{'+' if last else ''}NN>\"]\n",
    "        if feats.get('Gender'):\n",
    "            tags += [f\"<{feats.get('Gender')}>\"]\n",
    "        if feats.get('Case'):\n",
    "            tags += [f\"<{feats.get('Case')}>\"]\n",
    "        if feats.get('Number'):\n",
    "            d = {'Sing': 'Sg', 'Plur': 'Pl'}\n",
    "            tags += [f\"<{d[feats.get('Number')]}>\"]\n",
    "\n",
    "    elif upos == \"VERB\":\n",
    "        tags += [f\"<{'+' if last else ''}V>\"]\n",
    "        if feats.get('Person'):\n",
    "            tags += [f\"<{feats.get('Person')}>\"]\n",
    "        if feats.get('Number'):\n",
    "            d = {'Sing': 'Sg', 'Plur': 'Pl'}\n",
    "            tags += [f\"<{d[feats.get('Number')]}>\"]\n",
    "        if feats.get('Tense'):\n",
    "            tags += [f\"<{feats.get('Tense')}>\"]\n",
    "        if feats.get('Mood'):\n",
    "            tags += [f\"<{feats.get('Mood')}>\"]\n",
    "\n",
    "    elif upos == \"ADJ\":\n",
    "        tags += [f\"<{'+' if last else ''}ADJ>\"]\n",
    "        if feats.get('Degree'):\n",
    "            tags += [f\"<{feats.get('Degree')}>\"]\n",
    "        if feats.get('Gender'):\n",
    "            if feats.get('Number') == \"Plur\" and feats.get('Gender') == \"Neut\":\n",
    "                tags += [\"<NoGend>\"]\n",
    "            else:\n",
    "                tags += [f\"<{feats.get('Gender')}>\"]\n",
    "        tags += [\"<Nom>\"]  # Case from word after!\n",
    "        if feats.get('Number'):\n",
    "            d = {'Sing': 'Sg', 'Plur': 'Pl'}\n",
    "            tags += [f\"<{d[feats.get('Number')]}>\"]\n",
    "        tags += [\"<St>\"]\n",
    "    return tags"
   ]
  },
  {
   "cell_type": "code",
   "execution_count": 133,
   "metadata": {},
   "outputs": [],
   "source": [
    "# morphemes[11]"
   ]
  },
  {
   "cell_type": "markdown",
   "metadata": {},
   "source": [
    "## Adjektive"
   ]
  },
  {
   "cell_type": "code",
   "execution_count": 135,
   "metadata": {},
   "outputs": [
    {
     "name": "stdout",
     "output_type": "stream",
     "text": [
      "analoge\n",
      "['<+ADJ>', '<Pos>', '<NoGend>', '<Nom>', '<Pl>', '<St>']\n"
     ]
    },
    {
     "data": {
      "text/plain": [
       "['digitale']"
      ]
     },
     "execution_count": 135,
     "metadata": {},
     "output_type": "execute_result"
    }
   ],
   "source": [
    "print(morphemes[11][0].get(\"form\"))\n",
    "tags = token2sfst(morphemes[11][0])\n",
    "print(tags)\n",
    "fst.generate(f\"digital{''.join(tags)}\")"
   ]
  },
  {
   "cell_type": "code",
   "execution_count": 136,
   "metadata": {},
   "outputs": [
    {
     "data": {
      "text/plain": [
       "['digital<+ADJ><Pos><Adv>', 'digital<+ADJ><Pos><Pred>']"
      ]
     },
     "execution_count": 136,
     "metadata": {},
     "output_type": "execute_result"
    }
   ],
   "source": [
    "fst.analyse(\"digital\")  # die ersten 2 tags passen immer"
   ]
  },
  {
   "cell_type": "markdown",
   "metadata": {},
   "source": [
    "## Verben"
   ]
  },
  {
   "cell_type": "code",
   "execution_count": 127,
   "metadata": {},
   "outputs": [
    {
     "name": "stdout",
     "output_type": "stream",
     "text": [
      "wandelt\n",
      "['<+V>', '<3>', '<Sg>', '<Pres>', '<Ind>']\n"
     ]
    },
    {
     "data": {
      "text/plain": [
       "['schreibt']"
      ]
     },
     "execution_count": 127,
     "metadata": {},
     "output_type": "execute_result"
    }
   ],
   "source": [
    "print(morphemes[5][0].get(\"form\"))\n",
    "tags = token2sfst(morphemes[5][0])\n",
    "print(tags)\n",
    "fst.generate(f\"schreiben{''.join(tags)}\")"
   ]
  },
  {
   "cell_type": "code",
   "execution_count": 119,
   "metadata": {},
   "outputs": [
    {
     "data": {
      "text/plain": [
       "['schreiben<+V><3><Pl><Pres><Subj>',\n",
       " 'schreiben<+V><3><Pl><Pres><Ind>',\n",
       " 'schreiben<+V><1><Pl><Pres><Subj>',\n",
       " 'schreiben<+V><1><Pl><Pres><Ind>',\n",
       " 'schreiben<+V><Inf>']"
      ]
     },
     "execution_count": 119,
     "metadata": {},
     "output_type": "execute_result"
    }
   ],
   "source": [
    "fst.analyse(\"schreiben\")  # nur <V> passt"
   ]
  },
  {
   "cell_type": "markdown",
   "metadata": {},
   "source": [
    "## Nomen"
   ]
  },
  {
   "cell_type": "code",
   "execution_count": 128,
   "metadata": {},
   "outputs": [
    {
     "name": "stdout",
     "output_type": "stream",
     "text": [
      "Signale\n",
      "['<+NN>', '<Neut>', '<Acc>', '<Pl>']\n"
     ]
    },
    {
     "data": {
      "text/plain": [
       "['Krankenhäuser']"
      ]
     },
     "execution_count": 128,
     "metadata": {},
     "output_type": "execute_result"
    }
   ],
   "source": [
    "print(morphemes[12][0].get(\"form\"))\n",
    "tags = token2sfst(morphemes[12][0])\n",
    "print(tags)\n",
    "fst.generate(f\"Krankenhaus{''.join(tags)}\")"
   ]
  },
  {
   "cell_type": "code",
   "execution_count": 121,
   "metadata": {},
   "outputs": [
    {
     "data": {
      "text/plain": [
       "['Schüssel<+NN><Fem><Acc><Sg>',\n",
       " 'Schüssel<+NN><Fem><Dat><Sg>',\n",
       " 'Schüssel<+NN><Fem><Gen><Sg>',\n",
       " 'Schüssel<+NN><Fem><Nom><Sg>']"
      ]
     },
     "execution_count": 121,
     "metadata": {},
     "output_type": "execute_result"
    }
   ],
   "source": [
    "fst.analyse(\"Schüssel\")  # nehme <+NN><{Gender}> vom neuen Wort, und <{Case}><{Number}> vom alten Wort"
   ]
  },
  {
   "cell_type": "code",
   "execution_count": 129,
   "metadata": {},
   "outputs": [
    {
     "data": {
      "text/plain": [
       "['Schüsseln']"
      ]
     },
     "execution_count": 129,
     "metadata": {},
     "output_type": "execute_result"
    }
   ],
   "source": [
    "fst.generate(f\"Schüssel<+NN><Fem>{''.join(tags[2:])}\")"
   ]
  },
  {
   "cell_type": "code",
   "execution_count": null,
   "metadata": {},
   "outputs": [],
   "source": []
  }
 ],
 "metadata": {
  "kernelspec": {
   "display_name": "Python 3 (ipykernel)",
   "language": "python",
   "name": "python3"
  },
  "language_info": {
   "codemirror_mode": {
    "name": "ipython",
    "version": 3
   },
   "file_extension": ".py",
   "mimetype": "text/x-python",
   "name": "python",
   "nbconvert_exporter": "python",
   "pygments_lexer": "ipython3",
   "version": "3.7.9"
  },
  "toc": {
   "base_numbering": 1,
   "nav_menu": {},
   "number_sections": true,
   "sideBar": true,
   "skip_h1_title": false,
   "title_cell": "Table of Contents",
   "title_sidebar": "Contents",
   "toc_cell": false,
   "toc_position": {},
   "toc_section_display": true,
   "toc_window_display": false
  },
  "varInspector": {
   "cols": {
    "lenName": 16,
    "lenType": 16,
    "lenVar": 40
   },
   "kernels_config": {
    "python": {
     "delete_cmd_postfix": "",
     "delete_cmd_prefix": "del ",
     "library": "var_list.py",
     "varRefreshCmd": "print(var_dic_list())"
    },
    "r": {
     "delete_cmd_postfix": ") ",
     "delete_cmd_prefix": "rm(",
     "library": "var_list.r",
     "varRefreshCmd": "cat(var_dic_list()) "
    }
   },
   "types_to_exclude": [
    "module",
    "function",
    "builtin_function_or_method",
    "instance",
    "_Feature"
   ],
   "window_display": false
  }
 },
 "nbformat": 4,
 "nbformat_minor": 4
}
