{
 "cells": [
  {
   "cell_type": "markdown",
   "id": "9a711d69-0b08-434a-a9d6-db1e41d5218c",
   "metadata": {},
   "source": [
    "# Augment Sentences with flexion and SpaCy"
   ]
  },
  {
   "cell_type": "code",
   "execution_count": 1,
   "id": "d2c0927f-639b-499e-8344-3e41cd77ccd1",
   "metadata": {},
   "outputs": [],
   "source": [
    "%load_ext autoreload\n",
    "%autoreload 2"
   ]
  },
  {
   "cell_type": "code",
   "execution_count": 2,
   "id": "29ba880e-c916-4970-9055-bd7b0651a3c4",
   "metadata": {},
   "outputs": [],
   "source": [
    "import sys\n",
    "sys.path.append(\"..\")"
   ]
  },
  {
   "cell_type": "code",
   "execution_count": 3,
   "id": "824979d8-e258-488b-b58d-774f892416de",
   "metadata": {},
   "outputs": [],
   "source": [
    "import flexion\n",
    "import spacy\n",
    "import itertools"
   ]
  },
  {
   "cell_type": "code",
   "execution_count": 4,
   "id": "5009c288-1c7d-44d2-a444-f10f6c61a0b4",
   "metadata": {},
   "outputs": [],
   "source": [
    "model = spacy.load(\"de_core_news_lg\")"
   ]
  },
  {
   "cell_type": "markdown",
   "id": "97b7f07a-d421-4286-84f0-5e7dba714e68",
   "metadata": {},
   "source": [
    "## Toy Example"
   ]
  },
  {
   "cell_type": "code",
   "execution_count": 5,
   "id": "b6c9cf8b-a86d-4dd1-9661-bb56ed5c1ea8",
   "metadata": {},
   "outputs": [],
   "source": [
    "dat = [\n",
    "    'Als Ada Lovelace auf einem Ball den Mathematiker Charles Babbage traf, der sie einlud, die von ihm erfundene „Differenzmaschine“ anzusehen, war sie hellauf begeistert.',\n",
    "    \"Die Maschine konnte selbstständig addieren und subtrahieren, doch Ada war klar, dass die Möglichkeiten damit noch lange nicht erschöpft waren.\",\n",
    "    \"Sie träumte davon, dass eine solche Maschine eines Tages sogar Musik abspielen könnte, und ersann so die Idee eines modernen Computers. 1845 legte sie den ersten Algorithmus zur maschinellen Berechnung der Bernoulli-Zahlen vor und wird daher von vielen als erste Computerprogrammiererin der Welt gefeiert.\"\n",
    "]"
   ]
  },
  {
   "cell_type": "code",
   "execution_count": 6,
   "id": "8eba13ca-5b36-43eb-a34d-a8a319c100f2",
   "metadata": {},
   "outputs": [],
   "source": [
    "# parse all examples\n",
    "docs = [[{\"id\": t.i, \"form\": t.text, \"lemma\": t.lemma_,\n",
    "          \"upos\": t.pos_, \"feats\": t.morph.to_dict()} for t in model(item)]\n",
    "        for item in dat if len(item) > 0]"
   ]
  },
  {
   "cell_type": "code",
   "execution_count": 7,
   "id": "6a3516f0-c0b9-4e39-96a0-29b7e917e322",
   "metadata": {},
   "outputs": [
    {
     "name": "stdout",
     "output_type": "stream",
     "text": [
      "['treffen', 'einladen', 'ansehen', 'begeistern', 'addieren', 'subtrahieren', 'erschöpfen', 'träumen', 'abspielen', 'ersinnen', 'legen', 'feiern']\n"
     ]
    }
   ],
   "source": [
    "# extract all NOUNs\n",
    "lemmata = list(itertools.chain(*[[t.get(\"lemma\") for t in doc if t.get(\"upos\") == \"VERB\"] for doc in docs]))\n",
    "print(lemmata)"
   ]
  },
  {
   "cell_type": "code",
   "execution_count": 8,
   "id": "4ee24d69-e34c-4012-90bd-e04e75f0bcbb",
   "metadata": {},
   "outputs": [],
   "source": [
    "augmentations = []\n",
    "for lemma in lemmata:\n",
    "    for substitute in lemmata:\n",
    "        if lemma != substitute:\n",
    "            for doc in docs:\n",
    "                tmp = flexion.replace(lemma, substitute, doc)\n",
    "                augmentations.extend(tmp)"
   ]
  },
  {
   "cell_type": "code",
   "execution_count": 9,
   "id": "501ad83c-dbdf-4e6f-a7ac-29c68dfd6f3f",
   "metadata": {},
   "outputs": [
    {
     "data": {
      "text/plain": [
       "['Die Maschine konnte selbstständig träumen und subtrahieren, doch Ada war klar, dass die Möglichkeiten damit noch lange nicht erschöpft waren.',\n",
       " 'Sie legte davon, dass eine solche Maschine eines Tages sogar Musik abspielen könnte, und ersann so die Idee eines modernen Computers. 1845 legte sie den ersten Algorithmus zur maschinellen Berechnung der Bernoulli-Zahlen vor und wird daher von vielen als erste Computerprogrammiererin der Welt gefeiert.',\n",
       " 'Sie träumte davon, dass eine solche Maschine eines Tages sogar Musik abspielen könnte, und ersann so die Idee eines modernen Computers. 1845 träumte sie den ersten Algorithmus zur maschinellen Berechnung der Bernoulli-Zahlen vor und wird daher von vielen als erste Computerprogrammiererin der Welt gefeiert.',\n",
       " 'Als Ada Lovelace auf einem Ball den Mathematiker Charles Babbage addierte, der sie einlud, die von ihm erfundene „Differenzmaschine“ anzusehen, war sie hellauf begeistert.',\n",
       " 'Sie addierte davon, dass eine solche Maschine eines Tages sogar Musik abspielen könnte, und ersann so die Idee eines modernen Computers. 1845 legte sie den ersten Algorithmus zur maschinellen Berechnung der Bernoulli-Zahlen vor und wird daher von vielen als erste Computerprogrammiererin der Welt gefeiert.']"
      ]
     },
     "execution_count": 9,
     "metadata": {},
     "output_type": "execute_result"
    }
   ],
   "source": [
    "list(set(augmentations))[:5]"
   ]
  },
  {
   "cell_type": "markdown",
   "id": "7c8f0802-3710-47d2-ba27-db4f44b79151",
   "metadata": {},
   "source": [
    "## VERB"
   ]
  },
  {
   "cell_type": "code",
   "execution_count": 10,
   "id": "0654f6fa-3a6f-4c41-9033-0856237175ce",
   "metadata": {},
   "outputs": [
    {
     "data": {
      "text/plain": [
       "{'Die Sportlerin eilte am Fluß entlang.',\n",
       " 'Die Sportlerin ging am Fluß entlang.',\n",
       " 'Die Sportlerin hastete am Fluß entlang.',\n",
       " 'Die Sportlerin hechtete am Fluß entlang.',\n",
       " 'Die Sportlerin hetzte am Fluß entlang.',\n",
       " 'Die Sportlerin rannte am Fluß entlang.',\n",
       " 'Die Sportlerin schnellte am Fluß entlang.',\n",
       " 'Die Sportlerin sprintete am Fluß entlang.'}"
      ]
     },
     "execution_count": 10,
     "metadata": {},
     "output_type": "execute_result"
    }
   ],
   "source": [
    "lemma = \"laufen\"\n",
    "synonyms = [\"gehen\", \"rennen\", \"sprinten\", \"eilen\", \"hasten\", \"hechten\", \"hetzen\", \"schnellen\"]\n",
    "sentence = \"Die Sportlerin lief am Fluß entlang.\"\n",
    "\n",
    "# parse with spacy\n",
    "doc = [{\"id\": t.i, \"form\": t.text, \"lemma\": t.lemma_,\n",
    "        \"upos\": t.pos_, \"feats\": t.morph.to_dict()} \n",
    "       for t in model(sentence)]\n",
    "\n",
    "# create augmentations\n",
    "augmentations = []\n",
    "for substitute in synonyms:\n",
    "    tmp = flexion.replace(lemma, substitute, doc)\n",
    "    augmentations.extend(tmp)\n",
    "    \n",
    "set(augmentations)"
   ]
  },
  {
   "cell_type": "markdown",
   "id": "eef1de4b-fda7-4238-9ff7-55098ab17100",
   "metadata": {},
   "source": [
    "## NOUN"
   ]
  },
  {
   "cell_type": "code",
   "execution_count": 11,
   "id": "2031020e-b5e0-47f6-8f4c-e866e69cc5af",
   "metadata": {},
   "outputs": [
    {
     "data": {
      "text/plain": [
       "{'Sie gehen in das Gebäude dort, die groß ist.',\n",
       " 'Sie gehen in das Haus dort, die groß ist.',\n",
       " 'Sie gehen in den Eingang dort, die groß ist.',\n",
       " 'Sie gehen in die Garage dort, die groß ist.'}"
      ]
     },
     "execution_count": 11,
     "metadata": {},
     "output_type": "execute_result"
    }
   ],
   "source": [
    "lemma = \"Werkstatt\"\n",
    "synonyms = [\"Garage\", \"Gebäude\", \"Haus\", \"Eingang\"]\n",
    "sentence = \"Sie gehen in die Werkstatt dort, die groß ist.\"\n",
    "# sentence = \"Leute gehen in die Werkstatt dort, die groß sind.\"\n",
    "\n",
    "# parse with spacy\n",
    "doc = [{\"id\": t.i, \"form\": t.text, \"lemma\": t.lemma_, # \"head\": t.head.i, \n",
    "        \"upos\": t.pos_, \"feats\": t.morph.to_dict()} \n",
    "       for t in model(sentence)]\n",
    "\n",
    "# create augmentations\n",
    "augmentations = []\n",
    "for substitute in synonyms:\n",
    "    tmp = flexion.replace(lemma, substitute, doc)\n",
    "    augmentations.extend(tmp)\n",
    "    \n",
    "set(augmentations)"
   ]
  },
  {
   "cell_type": "markdown",
   "id": "3b81373f-3423-4774-8fab-b1397bce7cc1",
   "metadata": {},
   "source": [
    "(Open issue: if the lemma is root of clause sentence (PronType: Rel) the change genus of the relative pronoun)"
   ]
  }
 ],
 "metadata": {
  "kernelspec": {
   "display_name": "Python 3 (ipykernel)",
   "language": "python",
   "name": "python3"
  },
  "language_info": {
   "codemirror_mode": {
    "name": "ipython",
    "version": 3
   },
   "file_extension": ".py",
   "mimetype": "text/x-python",
   "name": "python",
   "nbconvert_exporter": "python",
   "pygments_lexer": "ipython3",
   "version": "3.7.9"
  }
 },
 "nbformat": 4,
 "nbformat_minor": 5
}
