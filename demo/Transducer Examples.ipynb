{
 "cells": [
  {
   "cell_type": "markdown",
   "metadata": {
    "tags": []
   },
   "source": [
    "# Transducer Examples\n"
   ]
  },
  {
   "cell_type": "code",
   "execution_count": 1,
   "metadata": {
    "ExecuteTime": {
     "end_time": "2018-09-18T08:12:38.232692Z",
     "start_time": "2018-09-18T08:12:38.223700Z"
    }
   },
   "outputs": [],
   "source": [
    "import sys\n",
    "sys.path.append('..')"
   ]
  },
  {
   "cell_type": "code",
   "execution_count": 2,
   "metadata": {
    "ExecuteTime": {
     "end_time": "2018-09-18T08:12:38.249524Z",
     "start_time": "2018-09-18T08:12:38.237886Z"
    }
   },
   "outputs": [],
   "source": [
    "import sfst_transduce\n",
    "import pathlib"
   ]
  },
  {
   "cell_type": "markdown",
   "metadata": {},
   "source": [
    "## FST"
   ]
  },
  {
   "cell_type": "code",
   "execution_count": 3,
   "metadata": {
    "ExecuteTime": {
     "end_time": "2018-09-18T08:12:38.249524Z",
     "start_time": "2018-09-18T08:12:38.237886Z"
    }
   },
   "outputs": [],
   "source": [
    "# path to compiled transducer\n",
    "FSTPATH = f\"{str(pathlib.Path.home())}/flexion_data/smor/SMOR/lib/smor.a\""
   ]
  },
  {
   "cell_type": "code",
   "execution_count": 4,
   "metadata": {
    "ExecuteTime": {
     "end_time": "2018-09-18T08:12:38.249524Z",
     "start_time": "2018-09-18T08:12:38.237886Z"
    }
   },
   "outputs": [],
   "source": [
    "# Create instance from compiled transducer\n",
    "transducer = sfst_transduce.Transducer(FSTPATH)"
   ]
  },
  {
   "cell_type": "markdown",
   "metadata": {
    "ExecuteTime": {
     "end_time": "2018-09-18T08:12:38.249524Z",
     "start_time": "2018-09-18T08:12:38.237886Z"
    }
   },
   "source": [
    "### Beispiel Adjektive"
   ]
  },
  {
   "cell_type": "code",
   "execution_count": 5,
   "metadata": {
    "ExecuteTime": {
     "end_time": "2018-09-18T08:12:38.249524Z",
     "start_time": "2018-09-18T08:12:38.237886Z"
    }
   },
   "outputs": [
    {
     "data": {
      "text/plain": [
       "['einfach<+ADJ><Comp><Adv>',\n",
       " 'einfach<+ADJ><Comp><Pred>',\n",
       " 'einfach<+ADJ><Pos><Masc><Nom><Sg><St>',\n",
       " 'einfach<+ADJ><Pos><NoGend><Gen><Pl><St>',\n",
       " 'einfach<+ADJ><Pos><Fem><Dat><Sg><St>',\n",
       " 'einfach<+ADJ><Pos><Fem><Gen><Sg><St>']"
      ]
     },
     "execution_count": 5,
     "metadata": {},
     "output_type": "execute_result"
    }
   ],
   "source": [
    "analysis_results = transducer.analyse(\"einfacher\")\n",
    "analysis_results"
   ]
  },
  {
   "cell_type": "code",
   "execution_count": 6,
   "metadata": {
    "ExecuteTime": {
     "end_time": "2018-09-18T08:12:38.249524Z",
     "start_time": "2018-09-18T08:12:38.237886Z"
    }
   },
   "outputs": [
    {
     "name": "stdout",
     "output_type": "stream",
     "text": [
      "['schwerer']\n"
     ]
    }
   ],
   "source": [
    "generate_results = transducer.generate(\"schwer<+ADJ><Comp><Adv>\")\n",
    "print(generate_results)"
   ]
  },
  {
   "cell_type": "markdown",
   "metadata": {
    "ExecuteTime": {
     "end_time": "2018-09-18T08:12:38.249524Z",
     "start_time": "2018-09-18T08:12:38.237886Z"
    }
   },
   "source": [
    "### Beispiel 1 - Ein Lexem"
   ]
  },
  {
   "cell_type": "code",
   "execution_count": 7,
   "metadata": {
    "ExecuteTime": {
     "end_time": "2018-09-18T08:12:38.249524Z",
     "start_time": "2018-09-18T08:12:38.237886Z"
    }
   },
   "outputs": [
    {
     "data": {
      "text/plain": [
       "['Haus<+NN><Neut><Gen><Sg>']"
      ]
     },
     "execution_count": 7,
     "metadata": {},
     "output_type": "execute_result"
    }
   ],
   "source": [
    "transducer.analyse(\"Hauses\")"
   ]
  },
  {
   "cell_type": "code",
   "execution_count": 8,
   "metadata": {
    "ExecuteTime": {
     "end_time": "2018-09-18T08:12:38.249524Z",
     "start_time": "2018-09-18T08:12:38.237886Z"
    }
   },
   "outputs": [
    {
     "data": {
      "text/plain": [
       "['Gebäudes']"
      ]
     },
     "execution_count": 8,
     "metadata": {},
     "output_type": "execute_result"
    }
   ],
   "source": [
    "transducer.generate(\"Gebäude<+NN><Neut><Gen><Sg>\")"
   ]
  },
  {
   "cell_type": "markdown",
   "metadata": {
    "ExecuteTime": {
     "end_time": "2018-09-18T08:12:38.249524Z",
     "start_time": "2018-09-18T08:12:38.237886Z"
    }
   },
   "source": [
    "### Beispiel 2 - Zwei Lexeme"
   ]
  },
  {
   "cell_type": "code",
   "execution_count": 9,
   "metadata": {},
   "outputs": [
    {
     "data": {
      "text/plain": [
       "['Schiff<NN>reisen<V><SUFF><+NN><Fem><Acc><Sg>',\n",
       " 'Schiff<NN>reisen<V><SUFF><+NN><Fem><Dat><Sg>',\n",
       " 'Schiff<NN>reisen<V><SUFF><+NN><Fem><Gen><Sg>',\n",
       " 'Schiff<NN>reisen<V><SUFF><+NN><Fem><Nom><Sg>',\n",
       " 'Schiff<NN>Reis<+NN><Masc><Dat><Sg><Old>',\n",
       " 'Schiff<NN>Reise<+NN><Fem><Acc><Sg>',\n",
       " 'Schiff<NN>Reise<+NN><Fem><Dat><Sg>',\n",
       " 'Schiff<NN>Reise<+NN><Fem><Gen><Sg>',\n",
       " 'Schiff<NN>Reise<+NN><Fem><Nom><Sg>']"
      ]
     },
     "execution_count": 9,
     "metadata": {},
     "output_type": "execute_result"
    }
   ],
   "source": [
    "transducer.analyse(\"Schiffsreise\")"
   ]
  },
  {
   "cell_type": "code",
   "execution_count": 10,
   "metadata": {
    "ExecuteTime": {
     "end_time": "2018-09-18T08:12:38.249524Z",
     "start_time": "2018-09-18T08:12:38.237886Z"
    }
   },
   "outputs": [
    {
     "data": {
      "text/plain": [
       "['Schiffsreise', 'Schiffreise', 'Schiffesreise', 'Schiffereise']"
      ]
     },
     "execution_count": 10,
     "metadata": {},
     "output_type": "execute_result"
    }
   ],
   "source": [
    "transducer.generate(\"Schiff<NN>Reise<+NN><Fem><Gen><Sg>\")"
   ]
  },
  {
   "cell_type": "code",
   "execution_count": 11,
   "metadata": {
    "ExecuteTime": {
     "end_time": "2018-09-18T08:12:38.249524Z",
     "start_time": "2018-09-18T08:12:38.237886Z"
    }
   },
   "outputs": [
    {
     "data": {
      "text/plain": [
       "['Schiffsfahrt', 'Schiffesfahrt', 'Schiffefahrt']"
      ]
     },
     "execution_count": 11,
     "metadata": {},
     "output_type": "execute_result"
    }
   ],
   "source": [
    "transducer.generate(\"Schiff<NN>Fahrt<+NN><Fem><Gen><Sg>\")"
   ]
  },
  {
   "cell_type": "markdown",
   "metadata": {},
   "source": [
    "### Beispiel 4 - Drei Lexeme"
   ]
  },
  {
   "cell_type": "code",
   "execution_count": 12,
   "metadata": {},
   "outputs": [
    {
     "data": {
      "text/plain": [
       "['infekt<V>ion<NN><SUFF>Schutz<NN>Gesetz<+NN><Neut><Acc><Sg>',\n",
       " 'infekt<V>ion<NN><SUFF>Schutz<NN>Gesetz<+NN><Neut><Dat><Sg>',\n",
       " 'infekt<V>ion<NN><SUFF>Schutz<NN>Gesetz<+NN><Neut><Nom><Sg>',\n",
       " 'Infektion<NN>Schutz<NN>Gesetz<+NN><Neut><Acc><Sg>',\n",
       " 'Infektion<NN>Schutz<NN>Gesetz<+NN><Neut><Dat><Sg>',\n",
       " 'Infektion<NN>Schutz<NN>Gesetz<+NN><Neut><Nom><Sg>']"
      ]
     },
     "execution_count": 12,
     "metadata": {},
     "output_type": "execute_result"
    }
   ],
   "source": [
    "transducer.analyse(\"Infektionsschutzgesetz\")"
   ]
  },
  {
   "cell_type": "code",
   "execution_count": 13,
   "metadata": {},
   "outputs": [
    {
     "data": {
      "text/plain": [
       "['Infektionsschutzesdokument',\n",
       " 'Infektionsschutzdokument',\n",
       " 'Infektionenschutzesdokument',\n",
       " 'Infektionenschutzdokument']"
      ]
     },
     "execution_count": 13,
     "metadata": {},
     "output_type": "execute_result"
    }
   ],
   "source": [
    "transducer.generate('Infektion<NN>Schutz<NN>Dokument<+NN><Neut><Nom><Sg>')"
   ]
  }
 ],
 "metadata": {
  "kernelspec": {
   "display_name": "Python 3 (ipykernel)",
   "language": "python",
   "name": "python3"
  },
  "language_info": {
   "codemirror_mode": {
    "name": "ipython",
    "version": 3
   },
   "file_extension": ".py",
   "mimetype": "text/x-python",
   "name": "python",
   "nbconvert_exporter": "python",
   "pygments_lexer": "ipython3",
   "version": "3.7.9"
  },
  "toc": {
   "base_numbering": 1,
   "nav_menu": {},
   "number_sections": true,
   "sideBar": true,
   "skip_h1_title": false,
   "title_cell": "Table of Contents",
   "title_sidebar": "Contents",
   "toc_cell": false,
   "toc_position": {},
   "toc_section_display": true,
   "toc_window_display": false
  },
  "varInspector": {
   "cols": {
    "lenName": 16,
    "lenType": 16,
    "lenVar": 40
   },
   "kernels_config": {
    "python": {
     "delete_cmd_postfix": "",
     "delete_cmd_prefix": "del ",
     "library": "var_list.py",
     "varRefreshCmd": "print(var_dic_list())"
    },
    "r": {
     "delete_cmd_postfix": ") ",
     "delete_cmd_prefix": "rm(",
     "library": "var_list.r",
     "varRefreshCmd": "cat(var_dic_list()) "
    }
   },
   "types_to_exclude": [
    "module",
    "function",
    "builtin_function_or_method",
    "instance",
    "_Feature"
   ],
   "window_display": false
  }
 },
 "nbformat": 4,
 "nbformat_minor": 4
}
